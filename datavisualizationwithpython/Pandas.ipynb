{
  "metadata": {
    "kernelspec": {
      "name": "python",
      "display_name": "Python (Pyodide)",
      "language": "python"
    },
    "language_info": {
      "codemirror_mode": {
        "name": "python",
        "version": 3
      },
      "file_extension": ".py",
      "mimetype": "text/x-python",
      "name": "python",
      "nbconvert_exporter": "python",
      "pygments_lexer": "ipython3",
      "version": "3.8"
    }
  },
  "nbformat_minor": 4,
  "nbformat": 4,
  "cells": [
    {
      "cell_type": "code",
      "source": "\n",
      "metadata": {
        "trusted": true
      },
      "outputs": [],
      "execution_count": null
    },
    {
      "cell_type": "code",
      "source": "import pandas as pd\nimport seaborn as sns\nimport matplotlib.pplot as plt",
      "metadata": {
        "trusted": true
      },
      "outputs": [
        {
          "name": "stderr",
          "text": "<ipython-input-2-7fef1c020559>:1: DeprecationWarning: \nPyarrow will become a required dependency of pandas in the next major release of pandas (pandas 3.0),\n(to allow more performant data types, such as the Arrow string type, and better interoperability with other libraries)\nbut was not found to be installed on your system.\nIf this would cause problems for you,\nplease provide us feedback at https://github.com/pandas-dev/pandas/issues/54466\n        \n  import pandas as pd\n",
          "output_type": "stream"
        },
        {
          "ename": "<class 'ModuleNotFoundError'>",
          "evalue": "No module named 'seaborn'",
          "traceback": [
            "\u001b[0;31m---------------------------------------------------------------------------\u001b[0m",
            "\u001b[0;31mModuleNotFoundError\u001b[0m                       Traceback (most recent call last)",
            "Cell \u001b[0;32mIn[2], line 2\u001b[0m\n\u001b[1;32m      1\u001b[0m \u001b[38;5;28;01mimport\u001b[39;00m \u001b[38;5;21;01mpandas\u001b[39;00m \u001b[38;5;28;01mas\u001b[39;00m \u001b[38;5;21;01mpd\u001b[39;00m\n\u001b[0;32m----> 2\u001b[0m \u001b[38;5;28;01mimport\u001b[39;00m \u001b[38;5;21;01mseaborn\u001b[39;00m \u001b[38;5;28;01mas\u001b[39;00m \u001b[38;5;21;01msns\u001b[39;00m\n\u001b[1;32m      3\u001b[0m \u001b[38;5;28;01mimport\u001b[39;00m \u001b[38;5;21;01mmatplotlib\u001b[39;00m\u001b[38;5;21;01m.\u001b[39;00m\u001b[38;5;21;01mpplot\u001b[39;00m \u001b[38;5;28;01mas\u001b[39;00m \u001b[38;5;21;01mplt\u001b[39;00m\n",
            "\u001b[0;31mModuleNotFoundError\u001b[0m: No module named 'seaborn'"
          ],
          "output_type": "error"
        }
      ],
      "execution_count": 2
    },
    {
      "cell_type": "code",
      "source": "auto = pd.read_csv(\"Automobile.csv\")",
      "metadata": {
        "trusted": true
      },
      "outputs": [],
      "execution_count": 3
    },
    {
      "cell_type": "code",
      "source": "auto.head()",
      "metadata": {
        "trusted": true
      },
      "outputs": [
        {
          "execution_count": 4,
          "output_type": "execute_result",
          "data": {
            "text/plain": "   symboling  normalized_losses         make fuel_type aspiration  \\\n0          3                168  alfa-romero       gas        std   \n1          3                168  alfa-romero       gas        std   \n2          1                168  alfa-romero       gas        std   \n3          2                164         audi       gas        std   \n4          2                164         audi       gas        std   \n\n  number_of_doors   body_style drive_wheels engine_location  wheel_base  ...  \\\n0             two  convertible          rwd           front        88.6  ...   \n1             two  convertible          rwd           front        88.6  ...   \n2             two    hatchback          rwd           front        94.5  ...   \n3            four        sedan          fwd           front        99.8  ...   \n4            four        sedan          4wd           front        99.4  ...   \n\n   engine_size  fuel_system  bore  stroke compression_ratio horsepower  \\\n0          130         mpfi  3.47    2.68               9.0        111   \n1          130         mpfi  3.47    2.68               9.0        111   \n2          152         mpfi  2.68    3.47               9.0        154   \n3          109         mpfi  3.19    3.40              10.0        102   \n4          136         mpfi  3.19    3.40               8.0        115   \n\n   peak_rpm city_mpg  highway_mpg  price  \n0      5000       21           27  13495  \n1      5000       21           27  16500  \n2      5000       19           26  16500  \n3      5500       24           30  13950  \n4      5500       18           22  17450  \n\n[5 rows x 26 columns]",
            "text/html": "<div>\n<style scoped>\n    .dataframe tbody tr th:only-of-type {\n        vertical-align: middle;\n    }\n\n    .dataframe tbody tr th {\n        vertical-align: top;\n    }\n\n    .dataframe thead th {\n        text-align: right;\n    }\n</style>\n<table border=\"1\" class=\"dataframe\">\n  <thead>\n    <tr style=\"text-align: right;\">\n      <th></th>\n      <th>symboling</th>\n      <th>normalized_losses</th>\n      <th>make</th>\n      <th>fuel_type</th>\n      <th>aspiration</th>\n      <th>number_of_doors</th>\n      <th>body_style</th>\n      <th>drive_wheels</th>\n      <th>engine_location</th>\n      <th>wheel_base</th>\n      <th>...</th>\n      <th>engine_size</th>\n      <th>fuel_system</th>\n      <th>bore</th>\n      <th>stroke</th>\n      <th>compression_ratio</th>\n      <th>horsepower</th>\n      <th>peak_rpm</th>\n      <th>city_mpg</th>\n      <th>highway_mpg</th>\n      <th>price</th>\n    </tr>\n  </thead>\n  <tbody>\n    <tr>\n      <th>0</th>\n      <td>3</td>\n      <td>168</td>\n      <td>alfa-romero</td>\n      <td>gas</td>\n      <td>std</td>\n      <td>two</td>\n      <td>convertible</td>\n      <td>rwd</td>\n      <td>front</td>\n      <td>88.6</td>\n      <td>...</td>\n      <td>130</td>\n      <td>mpfi</td>\n      <td>3.47</td>\n      <td>2.68</td>\n      <td>9.0</td>\n      <td>111</td>\n      <td>5000</td>\n      <td>21</td>\n      <td>27</td>\n      <td>13495</td>\n    </tr>\n    <tr>\n      <th>1</th>\n      <td>3</td>\n      <td>168</td>\n      <td>alfa-romero</td>\n      <td>gas</td>\n      <td>std</td>\n      <td>two</td>\n      <td>convertible</td>\n      <td>rwd</td>\n      <td>front</td>\n      <td>88.6</td>\n      <td>...</td>\n      <td>130</td>\n      <td>mpfi</td>\n      <td>3.47</td>\n      <td>2.68</td>\n      <td>9.0</td>\n      <td>111</td>\n      <td>5000</td>\n      <td>21</td>\n      <td>27</td>\n      <td>16500</td>\n    </tr>\n    <tr>\n      <th>2</th>\n      <td>1</td>\n      <td>168</td>\n      <td>alfa-romero</td>\n      <td>gas</td>\n      <td>std</td>\n      <td>two</td>\n      <td>hatchback</td>\n      <td>rwd</td>\n      <td>front</td>\n      <td>94.5</td>\n      <td>...</td>\n      <td>152</td>\n      <td>mpfi</td>\n      <td>2.68</td>\n      <td>3.47</td>\n      <td>9.0</td>\n      <td>154</td>\n      <td>5000</td>\n      <td>19</td>\n      <td>26</td>\n      <td>16500</td>\n    </tr>\n    <tr>\n      <th>3</th>\n      <td>2</td>\n      <td>164</td>\n      <td>audi</td>\n      <td>gas</td>\n      <td>std</td>\n      <td>four</td>\n      <td>sedan</td>\n      <td>fwd</td>\n      <td>front</td>\n      <td>99.8</td>\n      <td>...</td>\n      <td>109</td>\n      <td>mpfi</td>\n      <td>3.19</td>\n      <td>3.40</td>\n      <td>10.0</td>\n      <td>102</td>\n      <td>5500</td>\n      <td>24</td>\n      <td>30</td>\n      <td>13950</td>\n    </tr>\n    <tr>\n      <th>4</th>\n      <td>2</td>\n      <td>164</td>\n      <td>audi</td>\n      <td>gas</td>\n      <td>std</td>\n      <td>four</td>\n      <td>sedan</td>\n      <td>4wd</td>\n      <td>front</td>\n      <td>99.4</td>\n      <td>...</td>\n      <td>136</td>\n      <td>mpfi</td>\n      <td>3.19</td>\n      <td>3.40</td>\n      <td>8.0</td>\n      <td>115</td>\n      <td>5500</td>\n      <td>18</td>\n      <td>22</td>\n      <td>17450</td>\n    </tr>\n  </tbody>\n</table>\n<p>5 rows × 26 columns</p>\n</div>"
          },
          "metadata": {}
        }
      ],
      "execution_count": 4
    },
    {
      "cell_type": "code",
      "source": "auto.info()\n\n\n\n",
      "metadata": {
        "trusted": true,
        "scrolled": true
      },
      "outputs": [
        {
          "name": "stdout",
          "text": "<class 'pandas.core.frame.DataFrame'>\nRangeIndex: 201 entries, 0 to 200\nData columns (total 26 columns):\n #   Column               Non-Null Count  Dtype  \n---  ------               --------------  -----  \n 0   symboling            201 non-null    int64  \n 1   normalized_losses    201 non-null    int64  \n 2   make                 201 non-null    object \n 3   fuel_type            201 non-null    object \n 4   aspiration           201 non-null    object \n 5   number_of_doors      201 non-null    object \n 6   body_style           201 non-null    object \n 7   drive_wheels         201 non-null    object \n 8   engine_location      201 non-null    object \n 9   wheel_base           201 non-null    float64\n 10  length               201 non-null    float64\n 11  width                201 non-null    float64\n 12  height               201 non-null    float64\n 13  curb_weight          201 non-null    int64  \n 14  engine_type          201 non-null    object \n 15  number_of_cylinders  201 non-null    object \n 16  engine_size          201 non-null    int64  \n 17  fuel_system          201 non-null    object \n 18  bore                 201 non-null    float64\n 19  stroke               201 non-null    float64\n 20  compression_ratio    201 non-null    float64\n 21  horsepower           201 non-null    int64  \n 22  peak_rpm             201 non-null    int64  \n 23  city_mpg             201 non-null    int64  \n 24  highway_mpg          201 non-null    int64  \n 25  price                201 non-null    int64  \ndtypes: float64(7), int64(9), object(10)\nmemory usage: 33.0+ KB\n",
          "output_type": "stream"
        }
      ],
      "execution_count": 5
    },
    {
      "cell_type": "code",
      "source": "auto['price'].mean()\n",
      "metadata": {
        "trusted": true
      },
      "outputs": [
        {
          "execution_count": 8,
          "output_type": "execute_result",
          "data": {
            "text/plain": "13207.129353233831"
          },
          "metadata": {}
        }
      ],
      "execution_count": 8
    },
    {
      "cell_type": "code",
      "source": "auto[auto['price']==auto['price'].min()]",
      "metadata": {
        "trusted": true
      },
      "outputs": [
        {
          "execution_count": 9,
          "output_type": "execute_result",
          "data": {
            "text/plain": "     symboling  normalized_losses    make fuel_type aspiration  \\\n134          2                 83  subaru       gas        std   \n\n    number_of_doors body_style drive_wheels engine_location  wheel_base  ...  \\\n134             two  hatchback          fwd           front        93.7  ...   \n\n     engine_size  fuel_system  bore  stroke compression_ratio horsepower  \\\n134           97         2bbl  3.62    2.36               9.0         69   \n\n     peak_rpm city_mpg  highway_mpg  price  \n134      4900       31           36   5118  \n\n[1 rows x 26 columns]",
            "text/html": "<div>\n<style scoped>\n    .dataframe tbody tr th:only-of-type {\n        vertical-align: middle;\n    }\n\n    .dataframe tbody tr th {\n        vertical-align: top;\n    }\n\n    .dataframe thead th {\n        text-align: right;\n    }\n</style>\n<table border=\"1\" class=\"dataframe\">\n  <thead>\n    <tr style=\"text-align: right;\">\n      <th></th>\n      <th>symboling</th>\n      <th>normalized_losses</th>\n      <th>make</th>\n      <th>fuel_type</th>\n      <th>aspiration</th>\n      <th>number_of_doors</th>\n      <th>body_style</th>\n      <th>drive_wheels</th>\n      <th>engine_location</th>\n      <th>wheel_base</th>\n      <th>...</th>\n      <th>engine_size</th>\n      <th>fuel_system</th>\n      <th>bore</th>\n      <th>stroke</th>\n      <th>compression_ratio</th>\n      <th>horsepower</th>\n      <th>peak_rpm</th>\n      <th>city_mpg</th>\n      <th>highway_mpg</th>\n      <th>price</th>\n    </tr>\n  </thead>\n  <tbody>\n    <tr>\n      <th>134</th>\n      <td>2</td>\n      <td>83</td>\n      <td>subaru</td>\n      <td>gas</td>\n      <td>std</td>\n      <td>two</td>\n      <td>hatchback</td>\n      <td>fwd</td>\n      <td>front</td>\n      <td>93.7</td>\n      <td>...</td>\n      <td>97</td>\n      <td>2bbl</td>\n      <td>3.62</td>\n      <td>2.36</td>\n      <td>9.0</td>\n      <td>69</td>\n      <td>4900</td>\n      <td>31</td>\n      <td>36</td>\n      <td>5118</td>\n    </tr>\n  </tbody>\n</table>\n<p>1 rows × 26 columns</p>\n</div>"
          },
          "metadata": {}
        }
      ],
      "execution_count": 9
    },
    {
      "cell_type": "code",
      "source": "auto[auto['horsepower']>100].count()\n",
      "metadata": {
        "trusted": true
      },
      "outputs": [
        {
          "execution_count": 10,
          "output_type": "execute_result",
          "data": {
            "text/plain": "symboling              90\nnormalized_losses      90\nmake                   90\nfuel_type              90\naspiration             90\nnumber_of_doors        90\nbody_style             90\ndrive_wheels           90\nengine_location        90\nwheel_base             90\nlength                 90\nwidth                  90\nheight                 90\ncurb_weight            90\nengine_type            90\nnumber_of_cylinders    90\nengine_size            90\nfuel_system            90\nbore                   90\nstroke                 90\ncompression_ratio      90\nhorsepower             90\npeak_rpm               90\ncity_mpg               90\nhighway_mpg            90\nprice                  90\ndtype: int64"
          },
          "metadata": {}
        }
      ],
      "execution_count": 10
    },
    {
      "cell_type": "code",
      "source": "auto[auto['body_style'] == 'hatchback'].info()",
      "metadata": {
        "trusted": true
      },
      "outputs": [
        {
          "name": "stdout",
          "text": "<class 'pandas.core.frame.DataFrame'>\nIndex: 68 entries, 2 to 186\nData columns (total 26 columns):\n #   Column               Non-Null Count  Dtype  \n---  ------               --------------  -----  \n 0   symboling            68 non-null     int64  \n 1   normalized_losses    68 non-null     int64  \n 2   make                 68 non-null     object \n 3   fuel_type            68 non-null     object \n 4   aspiration           68 non-null     object \n 5   number_of_doors      68 non-null     object \n 6   body_style           68 non-null     object \n 7   drive_wheels         68 non-null     object \n 8   engine_location      68 non-null     object \n 9   wheel_base           68 non-null     float64\n 10  length               68 non-null     float64\n 11  width                68 non-null     float64\n 12  height               68 non-null     float64\n 13  curb_weight          68 non-null     int64  \n 14  engine_type          68 non-null     object \n 15  number_of_cylinders  68 non-null     object \n 16  engine_size          68 non-null     int64  \n 17  fuel_system          68 non-null     object \n 18  bore                 68 non-null     float64\n 19  stroke               68 non-null     float64\n 20  compression_ratio    68 non-null     float64\n 21  horsepower           68 non-null     int64  \n 22  peak_rpm             68 non-null     int64  \n 23  city_mpg             68 non-null     int64  \n 24  highway_mpg          68 non-null     int64  \n 25  price                68 non-null     int64  \ndtypes: float64(7), int64(9), object(10)\nmemory usage: 11.7+ KB\n",
          "output_type": "stream"
        }
      ],
      "execution_count": 29
    },
    {
      "cell_type": "code",
      "source": "auto['make'].value_counts().head(3)",
      "metadata": {
        "trusted": true
      },
      "outputs": [
        {
          "execution_count": 30,
          "output_type": "execute_result",
          "data": {
            "text/plain": "make\ntoyota    32\nnissan    18\nmazda     17\nName: count, dtype: int64"
          },
          "metadata": {}
        }
      ],
      "execution_count": 30
    },
    {
      "cell_type": "code",
      "source": "auto[auto['price']==7099]['make']",
      "metadata": {
        "trusted": true
      },
      "outputs": [
        {
          "execution_count": 31,
          "output_type": "execute_result",
          "data": {
            "text/plain": "87    nissan\nName: make, dtype: object"
          },
          "metadata": {}
        }
      ],
      "execution_count": 31
    },
    {
      "cell_type": "code",
      "source": "auto[auto[\"price\"] >40000] ",
      "metadata": {
        "trusted": true
      },
      "outputs": [
        {
          "execution_count": 32,
          "output_type": "execute_result",
          "data": {
            "text/plain": "    symboling  normalized_losses           make fuel_type aspiration  \\\n15          0                149            bmw       gas        std   \n70          0                140  mercedes-benz       gas        std   \n71          1                140  mercedes-benz       gas        std   \n\n   number_of_doors body_style drive_wheels engine_location  wheel_base  ...  \\\n15             two      sedan          rwd           front       103.5  ...   \n70            four      sedan          rwd           front       120.9  ...   \n71             two    hardtop          rwd           front       112.0  ...   \n\n    engine_size  fuel_system  bore  stroke compression_ratio horsepower  \\\n15          209         mpfi  3.62    3.39               8.0        182   \n70          308         mpfi  3.80    3.35               8.0        184   \n71          304         mpfi  3.80    3.35               8.0        184   \n\n    peak_rpm city_mpg  highway_mpg  price  \n15      5400       16           22  41315  \n70      4500       14           16  40960  \n71      4500       14           16  45400  \n\n[3 rows x 26 columns]",
            "text/html": "<div>\n<style scoped>\n    .dataframe tbody tr th:only-of-type {\n        vertical-align: middle;\n    }\n\n    .dataframe tbody tr th {\n        vertical-align: top;\n    }\n\n    .dataframe thead th {\n        text-align: right;\n    }\n</style>\n<table border=\"1\" class=\"dataframe\">\n  <thead>\n    <tr style=\"text-align: right;\">\n      <th></th>\n      <th>symboling</th>\n      <th>normalized_losses</th>\n      <th>make</th>\n      <th>fuel_type</th>\n      <th>aspiration</th>\n      <th>number_of_doors</th>\n      <th>body_style</th>\n      <th>drive_wheels</th>\n      <th>engine_location</th>\n      <th>wheel_base</th>\n      <th>...</th>\n      <th>engine_size</th>\n      <th>fuel_system</th>\n      <th>bore</th>\n      <th>stroke</th>\n      <th>compression_ratio</th>\n      <th>horsepower</th>\n      <th>peak_rpm</th>\n      <th>city_mpg</th>\n      <th>highway_mpg</th>\n      <th>price</th>\n    </tr>\n  </thead>\n  <tbody>\n    <tr>\n      <th>15</th>\n      <td>0</td>\n      <td>149</td>\n      <td>bmw</td>\n      <td>gas</td>\n      <td>std</td>\n      <td>two</td>\n      <td>sedan</td>\n      <td>rwd</td>\n      <td>front</td>\n      <td>103.5</td>\n      <td>...</td>\n      <td>209</td>\n      <td>mpfi</td>\n      <td>3.62</td>\n      <td>3.39</td>\n      <td>8.0</td>\n      <td>182</td>\n      <td>5400</td>\n      <td>16</td>\n      <td>22</td>\n      <td>41315</td>\n    </tr>\n    <tr>\n      <th>70</th>\n      <td>0</td>\n      <td>140</td>\n      <td>mercedes-benz</td>\n      <td>gas</td>\n      <td>std</td>\n      <td>four</td>\n      <td>sedan</td>\n      <td>rwd</td>\n      <td>front</td>\n      <td>120.9</td>\n      <td>...</td>\n      <td>308</td>\n      <td>mpfi</td>\n      <td>3.80</td>\n      <td>3.35</td>\n      <td>8.0</td>\n      <td>184</td>\n      <td>4500</td>\n      <td>14</td>\n      <td>16</td>\n      <td>40960</td>\n    </tr>\n    <tr>\n      <th>71</th>\n      <td>1</td>\n      <td>140</td>\n      <td>mercedes-benz</td>\n      <td>gas</td>\n      <td>std</td>\n      <td>two</td>\n      <td>hardtop</td>\n      <td>rwd</td>\n      <td>front</td>\n      <td>112.0</td>\n      <td>...</td>\n      <td>304</td>\n      <td>mpfi</td>\n      <td>3.80</td>\n      <td>3.35</td>\n      <td>8.0</td>\n      <td>184</td>\n      <td>4500</td>\n      <td>14</td>\n      <td>16</td>\n      <td>45400</td>\n    </tr>\n  </tbody>\n</table>\n<p>3 rows × 26 columns</p>\n</div>"
          },
          "metadata": {}
        }
      ],
      "execution_count": 32
    },
    {
      "cell_type": "code",
      "source": "auto[(auto['body_style']=='sedan') & (auto['price']<7000)]",
      "metadata": {
        "trusted": true
      },
      "outputs": [
        {
          "ename": "<class 'NameError'>",
          "evalue": "name 'auto' is not defined",
          "traceback": [
            "\u001b[0;31m---------------------------------------------------------------------------\u001b[0m",
            "\u001b[0;31mNameError\u001b[0m                                 Traceback (most recent call last)",
            "Cell \u001b[0;32mIn[1], line 1\u001b[0m\n\u001b[0;32m----> 1\u001b[0m \u001b[43mauto\u001b[49m[(auto[\u001b[38;5;124m'\u001b[39m\u001b[38;5;124mbody_style\u001b[39m\u001b[38;5;124m'\u001b[39m]\u001b[38;5;241m==\u001b[39m\u001b[38;5;124m'\u001b[39m\u001b[38;5;124msedan\u001b[39m\u001b[38;5;124m'\u001b[39m) \u001b[38;5;241m&\u001b[39m (auto[\u001b[38;5;124m'\u001b[39m\u001b[38;5;124mprice\u001b[39m\u001b[38;5;124m'\u001b[39m]\u001b[38;5;241m<\u001b[39m\u001b[38;5;241m7000\u001b[39m)]\n",
            "\u001b[0;31mNameError\u001b[0m: name 'auto' is not defined"
          ],
          "output_type": "error"
        }
      ],
      "execution_count": 1
    },
    {
      "cell_type": "code",
      "source": "",
      "metadata": {
        "trusted": true
      },
      "outputs": [],
      "execution_count": null
    },
    {
      "cell_type": "code",
      "source": "",
      "metadata": {
        "trusted": true
      },
      "outputs": [],
      "execution_count": null
    }
  ]
}